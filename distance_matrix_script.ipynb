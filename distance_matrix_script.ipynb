{
 "cells": [
  {
   "cell_type": "code",
   "execution_count": null,
   "metadata": {},
   "outputs": [],
   "source": [
    "import pandas as pd\n",
    "import numpy as np\n",
    "from scipy.spatial.distance import pdist\n",
    "from scipy.spatial.distance import squareform"
   ]
  },
  {
   "cell_type": "code",
   "execution_count": null,
   "metadata": {},
   "outputs": [],
   "source": [
    "input_table_name = \"./HNRC_AllCohorts_MetaboanlystNormalized_FORCHRISSY.csv\"\n",
    "output_table_name = \"./HNRC_AllCohorts_MetaboanlystNormalized_FORCHRISSY_braycurtis.csv\""
   ]
  },
  {
   "cell_type": "code",
   "execution_count": null,
   "metadata": {},
   "outputs": [],
   "source": [
    "df = pd.read_csv(input_table_name)\n",
    "sample_name = df[\"sample_name\"].tolist()\n",
    "features = df.columns.tolist()\n",
    "df.drop([\"sample_name\"], axis=1, inplace=True)\n",
    "matrix = df.to_numpy()    \n",
    "distance_matrix = calculate_distance(matrix)\n",
    "new_df = pd.DataFrame(distance_matrix)\n",
    "new_df[\"sample_name\"]=sample_name\n",
    "new_df.to_csv(output_table_name)"
   ]
  }
 ],
 "metadata": {
  "kernelspec": {
   "display_name": "Python 3",
   "language": "python",
   "name": "python3"
  },
  "language_info": {
   "codemirror_mode": {
    "name": "ipython",
    "version": 3
   },
   "file_extension": ".py",
   "mimetype": "text/x-python",
   "name": "python",
   "nbconvert_exporter": "python",
   "pygments_lexer": "ipython3",
   "version": "3.8.2"
  }
 },
 "nbformat": 4,
 "nbformat_minor": 4
}
